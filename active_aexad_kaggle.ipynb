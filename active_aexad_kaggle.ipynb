{
 "metadata": {
  "kernelspec": {
   "language": "python",
   "display_name": "Python 3",
   "name": "python3"
  },
  "language_info": {
   "name": "python",
   "version": "3.10.14",
   "mimetype": "text/x-python",
   "codemirror_mode": {
    "name": "ipython",
    "version": 3
   },
   "pygments_lexer": "ipython3",
   "nbconvert_exporter": "python",
   "file_extension": ".py"
  },
  "kaggle": {
   "accelerator": "gpu",
   "dataSources": [
    {
     "sourceId": 9781852,
     "sourceType": "datasetVersion",
     "datasetId": 5992818
    },
    {
     "sourceId": 153388,
     "sourceType": "modelInstanceVersion",
     "isSourceIdPinned": true,
     "modelInstanceId": 130294,
     "modelId": 153148
    }
   ],
   "dockerImageVersionId": 30787,
   "isInternetEnabled": true,
   "language": "python",
   "sourceType": "notebook",
   "isGpuEnabled": true
  }
 },
 "nbformat_minor": 4,
 "nbformat": 4,
 "cells": [
  {
   "cell_type": "markdown",
   "source": "# Active AE-XAD",
   "metadata": {}
  },
  {
   "cell_type": "markdown",
   "source": "First intallation steps",
   "metadata": {}
  },
  {
   "cell_type": "code",
   "execution_count": null,
   "outputs": [],
   "source": [
    "!pip3 install torchsummary\n",
    "!pip3 install kornia==0.5.3"
   ],
   "metadata": {
    "collapsed": false,
    "pycharm": {
     "name": "#%%\n"
    }
   }
  },
  {
   "cell_type": "code",
   "execution_count": null,
   "outputs": [],
   "source": [
    "#!rm -rf /kaggle/working/\n",
    "import os\n",
    "\n",
    "token = os.getenv(\"GITHUB_TOKEN\") \n",
    "repo_url = \"https://github.com/ileniagalati/active_ae_xad.git\"\n",
    "repo_name = \"active_ae_xad\"\n",
    "repo_path = f\"/kaggle/working/{repo_name}\"\n",
    "\n",
    "%cd /kaggle/working\n",
    "\n",
    "if os.path.exists(repo_path):\n",
    "    print(\"Repository exists, pulling latest changes...\")\n",
    "    %cd {repo_name}\n",
    "    !git pull origin main\n",
    "else:\n",
    "    print(\"Repository not found, cloning...\")\n",
    "    !git clone https://{token}@github.com/ileniagalati/{repo_name}.git\n",
    "    %cd {repo_name}\n"
   ],
   "metadata": {
    "collapsed": false,
    "pycharm": {
     "name": "#%%\n"
    }
   }
  },
  {
   "cell_type": "markdown",
   "source": [
    "## Active launch"
   ],
   "metadata": {
    "collapsed": false,
    "pycharm": {
     "name": "#%% md\n"
    }
   }
  },
  {
   "cell_type": "code",
   "execution_count": null,
   "outputs": [],
   "source": [
    "!python3 active_launch.py -ds mvtec -budget 5 -epochs 10 -seed 29"
   ],
   "metadata": {
    "collapsed": false,
    "pycharm": {
     "name": "#%%\n"
    }
   }
  },
  {
   "cell_type": "markdown",
   "source": [
    "## Valutazione delle prestazioni del modello"
   ],
   "metadata": {
    "collapsed": false,
    "pycharm": {
     "name": "#%% md\n"
    }
   }
  },
  {
   "cell_type": "code",
   "execution_count": null,
   "outputs": [],
   "source": [
    "import os\n",
    "from PIL import Image\n",
    "import matplotlib.pyplot as plt\n",
    "import numpy as np\n",
    "from sklearn.metrics import roc_auc_score\n",
    "\n",
    "from aexad.tools.evaluation_metrics import Xauc\n",
    "ds=\"mvtec\"\n",
    "htmap_stats = []\n",
    "det_stats = []\n",
    "\n",
    "ret_path = os.path.join('results/output', ds)\n",
    "GT = np.load(open(os.path.join(ret_path, 'gt.npy'), 'rb'))\n",
    "Y = np.load(open(os.path.join(ret_path, 'labels.npy'), 'rb'))\n",
    "Y_test = np.load(open(os.path.join('results/test_data', ds, 'Y_test.npy'), 'rb'))\n",
    "htmaps_aexad = np.load(open(os.path.join(ret_path, 'aexad_htmaps_f.npy'), 'rb'))\n",
    "scores_aexad = np.load(open(os.path.join(ret_path, 'aexad_scores_f.npy'), 'rb'))\n",
    "\n",
    "#mi serve sistemare la size delle gt\n",
    "gt_resized = np.zeros((GT.shape[0], 3, 256, 256), dtype=np.uint8)\n",
    "for i in range(GT.shape[0]):\n",
    "    img = Image.fromarray(GT[i])\n",
    "    img_resized = img.resize((256, 256),Image.NEAREST)\n",
    "    gt_resized[i] = np.transpose(np.array(img_resized), (2, 0, 1))\n",
    "GT=gt_resized\n",
    "\n",
    "#explanation e detection\n",
    "htmap_stats.append(Xauc(GT[Y == 1], htmaps_aexad[Y == 1]))\n",
    "det_stats.append(roc_auc_score(Y, scores_aexad))\n",
    "htmap_stats = np.array(htmap_stats)\n",
    "det_stats = np.array(det_stats)\n",
    "print(\"Explanation\")\n",
    "print(htmap_stats)\n",
    "print(\"Detection\")\n",
    "print(det_stats)"
   ],
   "metadata": {
    "collapsed": false,
    "pycharm": {
     "name": "#%%\n"
    }
   }
  },
  {
   "cell_type": "markdown",
   "source": [
    "# Plot"
   ],
   "metadata": {
    "collapsed": false,
    "pycharm": {
     "name": "#%% md\n"
    }
   }
  },
  {
   "cell_type": "code",
   "execution_count": null,
   "outputs": [],
   "source": [
    "from operator import index\n",
    "from aexad.tools.create_dataset import square, square_diff, mvtec\n",
    "import matplotlib\n",
    "#matplotlib.use('Agg')  # Imposta il backend corretto per evitare il problema\n",
    "%matplotlib inline\n",
    "\n",
    "import matplotlib.pyplot as plt\n",
    "# Resto del tuo codice\n",
    "\n",
    "\n",
    "from kornia.filters import gaussian_blur2d\n",
    "import torch\n",
    "def weighted_htmaps(htmaps, n_pixels=1):\n",
    "    w_htmaps = np.empty_like(htmaps)\n",
    "    for k in range(len(htmaps)):\n",
    "        ht = htmaps[k]\n",
    "        for i in range(ht.shape[0]):\n",
    "            for j in range(ht.shape[1]):\n",
    "                idx_i = np.arange(i - n_pixels, i + n_pixels + 1)\n",
    "                idx_i = idx_i[np.where((idx_i >= 0) & (idx_i < ht.shape[-2]))[0]]\n",
    "                idx_j = np.arange(j - n_pixels, j + n_pixels + 1)\n",
    "                idx_j = idx_j[np.where((idx_j >= 0) & (idx_j < ht.shape[-2]))[0]]\n",
    "                s = ht[idx_i][:, idx_j].sum() - ht[i, j]\n",
    "                w_htmaps[k, i, j] = ht[i, j] * (s / (len(idx_i) * len(idx_j) - 1))\n",
    "    return w_htmaps\n",
    "\n",
    "\n",
    "def plot_image(image, cmap='gray'):\n",
    "    '''\n",
    "    Method to plot an image\n",
    "    :param image: (C x H x W) channel-first-format image\n",
    "    :return:\n",
    "    '''\n",
    "    if image.shape[0] == 1:\n",
    "        image = image[0, :, :]\n",
    "    else:\n",
    "        image = np.swapaxes(image, 0, 1)\n",
    "        image = np.swapaxes(image, 1, 2)\n",
    "    \n",
    "    plt.imshow(image, cmap=cmap)\n",
    "    plt.axis(\"off\")\n",
    "    #plt.show()\n",
    "\n",
    "def plot_heatmap(image, colorbar=True):\n",
    "    '''\n",
    "    Method to plot a heatmap\n",
    "    :param image: (1 x H x W) channel-first-format image\n",
    "    :return:\n",
    "    '''\n",
    "    image = image[0, :, :]\n",
    "\n",
    "    plt.imshow(image, cmap='jet')#, vmin=0.0, vmax=1.0)\n",
    "    plt.axis(\"off\")\n",
    "    #plt.show()\n",
    "\n",
    "def plot_results(path, method):\n",
    "    infos = (os.path.normpath(path)).split(os.sep)\n",
    "    dataset = infos[-3]\n",
    "    c = int(infos[-2])\n",
    "    seed = int(infos[-1])\n",
    "\n",
    "    Y_test = np.load(open(os.path.join(path, 'labels.npy'), 'rb'))\n",
    "\n",
    "    if method == 'aexad_conv':\n",
    "        idx = np.argsort(scores_aexad[Y_test==0])[::-1]\n",
    "\n",
    "    plt.title(f'{method}')\n",
    "    #print(idx[:5])\n",
    "    num=2\n",
    "    examples=1\n",
    "    for i in range(examples):\n",
    "        plt.subplot(examples, num, (i*num)+1)\n",
    "        print(htmaps_aexad.shape)\n",
    "        plot_image(X_test[Y_test==0][idx[i]])\n",
    "\n",
    "        plt.subplot(examples, num, (i*num) + 2)\n",
    "        plot_heatmap(htmaps_aexad[Y_test == 0][idx[i]])\n",
    "\n",
    "    plt.show()\n",
    "\n",
    "import os\n",
    "import numpy as np\n",
    "import matplotlib.pyplot as plt\n",
    "\n",
    "def plot_results_anom(path, method):\n",
    "\n",
    "    if  method == 'aaexad':\n",
    "        idx = np.argsort(scores_aexad[Y_test == 1])\n",
    "\n",
    "    plt.title(f'{method}')\n",
    "\n",
    "    subplot_per_row = 3\n",
    "    examples=5\n",
    "    for i in range(examples):\n",
    "        plt.subplot(5, subplot_per_row, (i*subplot_per_row)+1)\n",
    "        plot_image(X_test[Y_test==1][idx[i]])\n",
    "\n",
    "        plt.subplot(examples, subplot_per_row, (i*subplot_per_row)+2)\n",
    "\n",
    "        plt.title('AEXAD')\n",
    "        plot_heatmap(htmaps_aexad[Y_test==1][idx[i]])\n",
    "        plt.subplot(examples, subplot_per_row, (i*subplot_per_row)+3)\n",
    "\n",
    "        plot_heatmap(GT_test[Y_test==1][idx[i]])\n",
    "\n",
    "    plt.show()\n",
    "\n",
    "def plot_results_anom_top(path, method):\n",
    "    \n",
    "    if method == 'aaexad':\n",
    "        idx = np.argsort(scores_aexad[Y_test == 1])[::-1]\n",
    "\n",
    "    plt.title(f'{method}')\n",
    "\n",
    "    # Apply Gaussian blur to heatmaps\n",
    "    htmaps_aexad_f = gaussian_blur2d(torch.from_numpy(htmaps_aexad), kernel_size=(15, 15), sigma=(4, 4))\n",
    "\n",
    "    # Set number of examples to show\n",
    "    examples = 2\n",
    "    for i in range(examples):\n",
    "        image = X_test[Y_test == 1][idx[i]]\n",
    "        image = image.transpose(2,0,1) \n",
    "        plot_image(image)\n",
    "        plt.show()\n",
    "        plot_heatmap(htmaps_aexad_f[Y_test == 1][idx[i]])\n",
    "        plt.show()\n",
    "        gt=GT_test[Y_test == 1][idx[i]]\n",
    "        gt = gt.transpose(2,0,1) \n",
    "        plot_heatmap(gt)\n",
    "        plt.show()\n",
    "        \n",
    "ret_path = \"results/output/mvtec\"\n",
    "data = \"results/test_data/mvtec\"\n",
    "GT_test = np.load(open(os.path.join(ret_path, 'gt.npy'), 'rb'))\n",
    "Y_test = np.load(open(os.path.join(ret_path, 'labels.npy'), 'rb'))\n",
    "htmaps_aexad = np.load(open(os.path.join(ret_path, 'aexad_htmaps_f.npy'), 'rb'))\n",
    "scores_aexad = np.load(open(os.path.join(ret_path, 'aexad_scores_f.npy'), 'rb'))\n",
    "X_test=np.load(open(os.path.join(data, 'X_test.npy'), 'rb'))\n",
    "plot_results_anom_top(ret_path,'aaexad')"
   ],
   "metadata": {
    "collapsed": false,
    "pycharm": {
     "name": "#%%\n"
    }
   }
  },
  {
   "cell_type": "code",
   "execution_count": null,
   "outputs": [],
   "source": [],
   "metadata": {
    "collapsed": false,
    "pycharm": {
     "name": "#%%\n"
    }
   }
  }
 ]
}